{
  "cells": [
    {
      "cell_type": "code",
      "execution_count": null,
      "metadata": {
        "id": "tBJDlYnt0P9J"
      },
      "outputs": [],
      "source": [
        "!pip install diffusers"
      ]
    },
    {
      "cell_type": "code",
      "execution_count": null,
      "metadata": {
        "id": "YomC7fJA04GA"
      },
      "outputs": [],
      "source": [
        "from google.colab import files\n",
        "uploaded = files.upload()"
      ]
    },
    {
      "cell_type": "code",
      "execution_count": 16,
      "metadata": {
        "id": "GNumplTx07-m"
      },
      "outputs": [],
      "source": [
        "# @title Default title text\n",
        "# Choose uploaded filename\n",
        "filename = list(uploaded.keys())[0]\n",
        "\n",
        "# Choose image size option\n",
        "size_option = \"square\"  # @param [\"portrait\", \"square\" ,\"landscape\"]\n",
        "\n",
        "\n",
        "# Define dimensions\n",
        "size_map = {\n",
        "    \"portrait\": (512, 768),\n",
        "    \"square\": (512, 512),\n",
        "    \"landscape\": (768, 512)\n",
        "}\n",
        "width, height = size_map[size_option]"
      ]
    },
    {
      "cell_type": "code",
      "execution_count": null,
      "metadata": {
        "id": "naYs5KDVeAL-"
      },
      "outputs": [],
      "source": [
        "!curl -L -o meinamix12-sd-1.5.safetensors -H \"Authorization: Bearer civit_ai_token\" \"https://civitai.com/api/download/models/948574?type=Model&format=SafeTensor&size=pruned&fp=fp16\""
      ]
    },
    {
      "cell_type": "code",
      "execution_count": null,
      "metadata": {
        "id": "KieVj5IqeDgK"
      },
      "outputs": [],
      "source": [
        "model = \"meinamix12-sd-1.5.safetensors\""
      ]
    },
    {
      "cell_type": "code",
      "execution_count": null,
      "metadata": {
        "id": "qVUcKjGN1lCK"
      },
      "outputs": [],
      "source": [
        "checkpoint_repo = \"finnstrom3693/sd-turbo\""
      ]
    },
    {
      "cell_type": "code",
      "execution_count": 4,
      "metadata": {
        "id": "1_0l1ipyo13n"
      },
      "outputs": [],
      "source": [
        "checkpoint_repo = \"nqzfaizal77ai/austersight-exp-sd-1.5\""
      ]
    },
    {
      "cell_type": "code",
      "execution_count": null,
      "metadata": {
        "id": "-pytvVOF72Qe"
      },
      "outputs": [],
      "source": [
        "checkpoint_repo = \"finnstrom3693/meinamix-sd-1.5-v12\""
      ]
    },
    {
      "cell_type": "code",
      "execution_count": 5,
      "metadata": {
        "id": "nSjxGWK37RDb"
      },
      "outputs": [],
      "source": [
        "import torch\n",
        "from diffusers import StableDiffusionImg2ImgPipeline, DPMSolverMultistepScheduler\n",
        "from PIL import Image"
      ]
    },
    {
      "cell_type": "code",
      "execution_count": 6,
      "metadata": {
        "id": "O9KPF7-U1haJ"
      },
      "outputs": [],
      "source": [
        "precision = 'half' # @param [\"half\", \"full\" ,\"bf16\"]\n",
        "if precision == \"half\":\n",
        "    selected_precision = torch.float16\n",
        "elif precision == \"full\":\n",
        "    selected_precision = torch.float32\n",
        "elif precision == \"bf16\":\n",
        "    selected_precision = torch.bfloat16"
      ]
    },
    {
      "cell_type": "code",
      "execution_count": 7,
      "metadata": {
        "id": "9gTw0v8feou_"
      },
      "outputs": [],
      "source": [
        "device = torch.device(\"cuda\") if torch.cuda.is_available() else torch.device(\"cpu\")"
      ]
    },
    {
      "cell_type": "code",
      "execution_count": null,
      "metadata": {
        "id": "7E3PvQRqeJUB"
      },
      "outputs": [],
      "source": [
        "# Load pipeline\n",
        "pipe = StableDiffusionImg2ImgPipeline.from_pretrained(\n",
        "    checkpoint_repo,\n",
        "    torch_dtype=selected_precision,\n",
        ").to(device)"
      ]
    },
    {
      "cell_type": "code",
      "execution_count": null,
      "metadata": {
        "id": "vodN425VetcD"
      },
      "outputs": [],
      "source": [
        "# # Load from single file\n",
        "# pipe = StableDiffusionImg2ImgPipeline.from_single_file(\n",
        "#     model,\n",
        "#     torch_dtype=selected_precision,\n",
        "# ).to(device)"
      ]
    },
    {
      "cell_type": "code",
      "execution_count": 9,
      "metadata": {
        "id": "NxFnLdH7e2B9"
      },
      "outputs": [],
      "source": [
        "pipe.safety_checker = None\n",
        "pipe.requires_safety_checker = False\n",
        "# DPMSolverMultistepScheduler\n",
        "pipe.scheduler = DPMSolverMultistepScheduler.from_config(\n",
        "    pipe.scheduler.config,\n",
        "    algorithm_type=\"sde-dpmsolver++\",\n",
        "    use_karras_sigmas=True\n",
        ")"
      ]
    },
    {
      "cell_type": "code",
      "execution_count": 17,
      "metadata": {
        "id": "JJl2rBxQ1FK6"
      },
      "outputs": [],
      "source": [
        "# Load and resize input image\n",
        "init_image = Image.open(filename).convert(\"RGB\")\n",
        "init_image = init_image.resize((width, height), Image.LANCZOS)"
      ]
    },
    {
      "cell_type": "code",
      "execution_count": 1,
      "metadata": {
        "cellView": "form",
        "id": "BgsfMqm22F3C"
      },
      "outputs": [],
      "source": [
        "prompt = \"sidebangs hairstyle with earring, sibear, 1girl, solo, library, bookshelf, books, sitting, chair, indoors, looking_at_viewer, long_hair, sidebangs, brown_hair, glasses, adjusting_glasses, necklace, black_choker, lace_top, black_skirt, thigh_straps, cleavage, confident_pose, seductive_pose, detailed_background, elegant, gothic_fashion, jewelry, realistic, anime_style\"  # @param {type:\"string\"}\n",
        "negative_prompt = \"lowres,glasses,text, error, cropped, worst quality, low quality, jpeg artifacts, ugly, duplicate, morbid, mutilated, out of frame, extra fingers, mutated hands, poorly drawn hands, poorly drawn face, mutation, deformed, blurry, dehydrated, bad anatomy, bad proportions, extra limbs, cloned face, disfigured, gross proportions, malformed limbs, missing arms, missing legs, extra arms, extra legs, fused fingers, too many fingers, long neck, username, watermark, signature\"  # @param {type:\"string\"}\n",
        "num_images = 4  # @param {type:\"integer\"}\n",
        "strength = 0.5 # @param {type:\"slider\", min:0, max:1, step:0.05}\n",
        "guidance_scale = 9 # @param {type:\"slider\", min:0, max:15, step:0.5}"
      ]
    },
    {
      "cell_type": "code",
      "execution_count": null,
      "metadata": {
        "id": "rfLhPWOW2IYi"
      },
      "outputs": [],
      "source": [
        "# Generate images\n",
        "generated_images = pipe(\n",
        "    prompt=[prompt] * num_images,\n",
        "    negative_prompt=[negative_prompt] * num_images,\n",
        "    image=[init_image] * num_images,\n",
        "    strength=strength,\n",
        "    guidance_scale=guidance_scale,\n",
        ").images"
      ]
    },
    {
      "cell_type": "code",
      "execution_count": 20,
      "metadata": {
        "id": "7vMejoF5iwUX"
      },
      "outputs": [],
      "source": [
        "import matplotlib.pyplot as plt\n",
        "import numpy as np"
      ]
    },
    {
      "cell_type": "code",
      "execution_count": null,
      "metadata": {
        "id": "_0pzEI8E2eVI"
      },
      "outputs": [],
      "source": [
        "def plot_images(images):\n",
        "    N = len(images)\n",
        "    n_cols = 2\n",
        "    n_rows = int(np.ceil(N / n_cols))\n",
        "\n",
        "    plt.figure(figsize = (20, 5 * n_rows))\n",
        "    for i in range(len(images)):\n",
        "        plt.subplot(n_rows, n_cols, i + 1)\n",
        "        plt.title(i)\n",
        "        plt.imshow(np.array(images[i]))\n",
        "        plt.axis(False)\n",
        "    plt.show()\n",
        "plot_images(generated_images)"
      ]
    },
    {
      "cell_type": "code",
      "execution_count": 22,
      "metadata": {
        "id": "lBzodEQp2kYZ"
      },
      "outputs": [],
      "source": [
        "for i, img in enumerate(generated_images):\n",
        "    filename = f\"output_image_{i+1}.png\"\n",
        "    img.save(filename)"
      ]
    }
  ],
  "metadata": {
    "accelerator": "GPU",
    "colab": {
      "gpuType": "T4",
      "provenance": []
    },
    "kernelspec": {
      "display_name": "Python 3",
      "name": "python3"
    },
    "language_info": {
      "name": "python"
    }
  },
  "nbformat": 4,
  "nbformat_minor": 0
}
